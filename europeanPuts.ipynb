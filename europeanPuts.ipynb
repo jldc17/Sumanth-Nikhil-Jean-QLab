{
 "cells": [
  {
   "cell_type": "code",
   "execution_count": 1,
   "metadata": {},
   "outputs": [],
   "source": [
    "import matplotlib.pyplot as plt\n",
    "\n",
    "%matplotlib inline\n",
    "import numpy as np\n",
    "\n",
    "from qiskit import QuantumCircuit\n",
    "from qiskit.algorithms import IterativeAmplitudeEstimation, EstimationProblem\n",
    "from qiskit.circuit.library import LinearAmplitudeFunction\n",
    "from qiskit_aer.primitives import Sampler\n",
    "from qiskit_finance.circuit.library import LogNormalDistribution"
   ]
  },
  {
   "cell_type": "code",
   "execution_count": 30,
   "metadata": {},
   "outputs": [],
   "source": [
    "#uncertainty qubits\n",
    "uncertainty_qubits = 3\n",
    "\n",
    "#parameters for distribution, WILL CHANGE FOR SITUATION\n",
    "# parameters for considered random distribution\n",
    "S = 1000 # initial spot price\n",
    "vol = 0.2 # volatility of 40%\n",
    "r = 0.04 # annual interest rate of 4%\n",
    "T = 30 / 365 # 40 days to maturity  \n",
    "\n",
    "# parameters for how we are modeling the distribution\n",
    "mu = (r - 0.5 * vol**2) * T + np.log(S)\n",
    "sigma = vol * np.sqrt(T)\n",
    "mean = np.exp(mu + sigma**2/2)\n",
    "variance = (np.exp(sigma**2) - 1) * np.exp(2*mu+sigma**2)\n",
    "stddev = np.sqrt(variance)\n",
    "\n",
    "#lowest and highest value considered for spot price\n",
    "low = np.maximum(0, mean - 3 * stddev)\n",
    "high = mean + 3 * stddev\n",
    "\n",
    "#This contructs an operator that will be used for Quantum Amplitude Estimation\n",
    "#This is essentially the circuit A I talked about earlier.\n",
    "uncertainty_model = LogNormalDistribution(\n",
    "    uncertainty_qubits, mu=mu, sigma=sigma**2, bounds=(low, high)\n",
    ")\n"
   ]
  },
  {
   "cell_type": "code",
   "execution_count": 46,
   "metadata": {},
   "outputs": [
    {
     "data": {
      "text/html": [
       "<pre style=\"word-wrap: normal;white-space: pre;background: #fff0;line-height: 1.1;font-family: &quot;Courier New&quot;,Courier,monospace\">        ┌───────┐┌────┐\n",
       "q349_0: ┤0      ├┤0   ├\n",
       "        │       ││    │\n",
       "q349_1: ┤1 P(X) ├┤1   ├\n",
       "        │       ││    │\n",
       "q349_2: ┤2      ├┤2   ├\n",
       "        └───────┘│    │\n",
       "  q350: ─────────┤3 F ├\n",
       "                 │    │\n",
       "a166_0: ─────────┤4   ├\n",
       "                 │    │\n",
       "a166_1: ─────────┤5   ├\n",
       "                 │    │\n",
       "a166_2: ─────────┤6   ├\n",
       "                 └────┘</pre>"
      ],
      "text/plain": [
       "        ┌───────┐┌────┐\n",
       "q349_0: ┤0      ├┤0   ├\n",
       "        │       ││    │\n",
       "q349_1: ┤1 P(X) ├┤1   ├\n",
       "        │       ││    │\n",
       "q349_2: ┤2      ├┤2   ├\n",
       "        └───────┘│    │\n",
       "  q350: ─────────┤3 F ├\n",
       "                 │    │\n",
       "a166_0: ─────────┤4   ├\n",
       "                 │    │\n",
       "a166_1: ─────────┤5   ├\n",
       "                 │    │\n",
       "a166_2: ─────────┤6   ├\n",
       "                 └────┘"
      ]
     },
     "execution_count": 46,
     "metadata": {},
     "output_type": "execute_result"
    }
   ],
   "source": [
    "x = uncertainty_model.values\n",
    "y = uncertainty_model.probabilities\n",
    "\n",
    "strike_price = 1020\n",
    "\n",
    "c_value = 0.15\n",
    "\n",
    "breakpoints = [low, strike_price] # the range\n",
    "slopes = [-1,0] # different slopes of the piecewise function\n",
    "offsets = [strike_price-low,0] #y-intercepts of the piecewise function\n",
    "f_min = 0\n",
    "f_max = strike_price - low\n",
    "# Linear Amplitude Function implements a circuit a piecewise linear \n",
    "# function on qubit amplitudes\n",
    "european_put_objective = LinearAmplitudeFunction(\n",
    "    uncertainty_qubits,\n",
    "    slopes,\n",
    "    offsets,\n",
    "    domain=(low, high),\n",
    "    image=(f_min, f_max),\n",
    "    breakpoints=breakpoints,\n",
    "    rescaling_factor=c_value,\n",
    ")\n",
    "\n",
    "# construct A operator for QAE for the payoff function by\n",
    "# composing the uncertainty model and the objective\n",
    "european_put = european_put_objective.compose(uncertainty_model, front=True)\n",
    "european_put.draw()"
   ]
  },
  {
   "cell_type": "code",
   "execution_count": 47,
   "metadata": {},
   "outputs": [
    {
     "name": "stdout",
     "output_type": "stream",
     "text": [
      "exact expected value:\t0.2429\n",
      "exact delta value:   \t-0.5129\n"
     ]
    }
   ],
   "source": [
    "# evaluate exact expected value (normalized to the [0, 1] interval)\n",
    "exact_value = np.dot(uncertainty_model.probabilities, y)\n",
    "exact_delta = -sum(uncertainty_model.probabilities[x <= strike_price])\n",
    "print(\"exact expected value:\\t%.4f\" % exact_value)\n",
    "print(\"exact delta value:   \\t%.4f\" % exact_delta)"
   ]
  },
  {
   "cell_type": "code",
   "execution_count": 48,
   "metadata": {},
   "outputs": [],
   "source": [
    "# set target precision and confidence level\n",
    "epsilon = 0.01\n",
    "alpha = 0.05\n",
    "\n",
    "problem = EstimationProblem(\n",
    "    state_preparation=european_put,\n",
    "    objective_qubits=[uncertainty_qubits],\n",
    "    post_processing=european_put_objective.post_processing,\n",
    ")\n",
    "# construct amplitude estimation\n",
    "ae = IterativeAmplitudeEstimation(\n",
    "    epsilon_target=epsilon, alpha=alpha, sampler=Sampler(run_options={\"shots\": 100})\n",
    ")"
   ]
  },
  {
   "cell_type": "code",
   "execution_count": 49,
   "metadata": {},
   "outputs": [],
   "source": [
    "result = ae.estimate(problem)"
   ]
  },
  {
   "cell_type": "code",
   "execution_count": 52,
   "metadata": {},
   "outputs": [
    {
     "name": "stdout",
     "output_type": "stream",
     "text": [
      "Estimated value:    \t33.1181\n",
      "Confidence interval:\t[27.3324, 38.9038]\n"
     ]
    }
   ],
   "source": [
    "conf_int = np.array(result.confidence_interval_processed)\n",
    "\n",
    "print(\"Estimated value:    \\t%.4f\" % (result.estimation_processed))\n",
    "print(\"Confidence interval:\\t[%.4f, %.4f]\" % tuple(conf_int))"
   ]
  },
  {
   "cell_type": "code",
   "execution_count": null,
   "metadata": {},
   "outputs": [],
   "source": []
  },
  {
   "cell_type": "code",
   "execution_count": 51,
   "metadata": {},
   "outputs": [
    {
     "data": {
      "image/png": "[encoded data removed]",
      "text/plain": [
       "<Figure size 640x480 with 1 Axes>"
      ]
     },
     "metadata": {},
     "output_type": "display_data"
    }
   ],
   "source": [
    "# plot exact payoff function (evaluated on the grid of the uncertainty model)\n",
    "x = uncertainty_model.values\n",
    "y = np.maximum(0, strike_price - x)\n",
    "plt.plot(x, y, \"ro-\")\n",
    "plt.grid()\n",
    "plt.title(\"Payoff Function\", size=15)\n",
    "plt.xlabel(\"Spot Price\", size=15)\n",
    "plt.ylabel(\"Payoff\", size=15)\n",
    "plt.xticks(x, size=15, rotation=90)\n",
    "plt.yticks(size=15)\n",
    "plt.show()"
   ]
  },
  {
   "cell_type": "code",
   "execution_count": null,
   "metadata": {},
   "outputs": [],
   "source": []
  }
 ],
 "metadata": {
  "kernelspec": {
   "display_name": "Python 3.10.6 64-bit",
   "language": "python",
   "name": "python3"
  },
  "language_info": {
   "codemirror_mode": {
    "name": "ipython",
    "version": 3
   },
   "file_extension": ".py",
   "mimetype": "text/x-python",
   "name": "python",
   "nbconvert_exporter": "python",
   "pygments_lexer": "ipython3",
   "version": "3.10.6"
  },
  "orig_nbformat": 4,
  "vscode": {
   "interpreter": {
    "hash": "aee8b7b246df8f9039afb4144a1f6fd8d2ca17a180786b69acc140d282b71a49"
   }
  }
 },
 "nbformat": 4,
 "nbformat_minor": 2
}
